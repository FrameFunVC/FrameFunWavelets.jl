{
 "cells": [
  {
   "cell_type": "code",
   "execution_count": null,
   "metadata": {},
   "outputs": [],
   "source": [
    "using Pkg;Pkg.activate(localprojectdir())\n",
    "using PyPlot, Plots"
   ]
  },
  {
   "cell_type": "code",
   "execution_count": null,
   "metadata": {},
   "outputs": [],
   "source": [
    "using FrameFunWavelets, PyPlot, LinearAlgebra, WaveletsEvaluation"
   ]
  },
  {
   "cell_type": "markdown",
   "metadata": {},
   "source": [
    "# DWT and iDWT"
   ]
  },
  {
   "cell_type": "code",
   "execution_count": null,
   "metadata": {},
   "outputs": [],
   "source": [
    "dict = DaubechiesWaveletBasis(3,9)\n",
    "DWT = Matrix(DiscreteWaveletTransform(dict))\n",
    "iDWT = Matrix(InverseDiscreteWaveletTransform(dict));"
   ]
  },
  {
   "cell_type": "code",
   "execution_count": null,
   "metadata": {},
   "outputs": [],
   "source": []
  },
  {
   "cell_type": "code",
   "execution_count": null,
   "metadata": {},
   "outputs": [],
   "source": [
    "P = imshow(DWT,cmap=\"gray_r\",norm=matplotlib.colors.LogNorm(eps()))\n",
    "P.figaspect=1\n",
    "PyPlot.savefig(\"DWT\")"
   ]
  },
  {
   "cell_type": "code",
   "execution_count": null,
   "metadata": {},
   "outputs": [],
   "source": [
    "P = imshow(iDWT,cmap=\"gray_r\",norm=matplotlib.colors.LogNorm(eps()))\n",
    "P.figaspect=1\n",
    "colorbar()\n",
    "PyPlot.savefig(\"iDWT\")"
   ]
  },
  {
   "cell_type": "code",
   "execution_count": null,
   "metadata": {},
   "outputs": [],
   "source": [
    "for p in 1:6\n",
    "    iseven(p) ? (qs = 2:2:6) : (qs = 1:2:6)\n",
    "    for q in qs\n",
    "        @show p,q, opnorm(Matrix(DiscreteWaveletTransform(CDFWaveletBasis(p,q,5))))\n",
    "    end\n",
    "    \n",
    "end\n",
    "    "
   ]
  },
  {
   "cell_type": "code",
   "execution_count": null,
   "metadata": {},
   "outputs": [],
   "source": [
    "for p in 1:6\n",
    "    iseven(p) ? (qs = 2:2:6) : (qs = 1:2:6)\n",
    "    for q in qs\n",
    "        @show p,q, opnorm(Matrix(InverseDiscreteWaveletTransform(CDFWaveletBasis(p,q,5,DWT.Prl,Float64,false))))\n",
    "    end\n",
    "    \n",
    "end"
   ]
  },
  {
   "cell_type": "code",
   "execution_count": null,
   "metadata": {},
   "outputs": [],
   "source": []
  },
  {
   "cell_type": "code",
   "execution_count": null,
   "metadata": {},
   "outputs": [],
   "source": []
  },
  {
   "cell_type": "code",
   "execution_count": null,
   "metadata": {},
   "outputs": [],
   "source": []
  },
  {
   "cell_type": "markdown",
   "metadata": {},
   "source": [
    "# Wavelets"
   ]
  },
  {
   "cell_type": "code",
   "execution_count": null,
   "metadata": {},
   "outputs": [],
   "source": [
    "using WaveletsEvaluation, PGFPlotsX, DocumentPGFPlots, Glob"
   ]
  },
  {
   "cell_type": "code",
   "execution_count": null,
   "metadata": {},
   "outputs": [],
   "source": [
    "# rm *.{fls,log,fdb*,aux,stderr,stdout}\n",
    "function removefiles() \n",
    "    rm.(glob(\"*.fls\"))\n",
    "    rm.(glob(\"*.log\"))\n",
    "    rm.(glob(\"*.fdb*\"))\n",
    "    rm.(glob(\"*.aux\"))\n",
    "    rm.(glob(\"*.stderr\"))\n",
    "    rm.(glob(\"*.stdout\")) \n",
    "end\n",
    "\n",
    "function plotwavelet(w::DaubechiesWavelet, d=10)\n",
    "    y1, x1 = evaluate_in_dyadic_points(Primal, scaling, w, 0, 0, d;points=true)\n",
    "    y2, x2 = evaluate_in_dyadic_points(Primal, wavelet, w, 0, 0, d;points=true)\n",
    "\n",
    "    P = @pgf Axis({width=\".5\\\\textwidth\",height=\".25\\\\textwidth\",},\n",
    "        PlotInc({mark=\"none\"},Table(x1,y1)),\n",
    "        PlotInc({mark=\"none\"},Table(x2,y2))\n",
    "        )\n",
    "    DocumentPGFPlots.savefigs(WaveletsEvaluation.DWT.name(w), P)\n",
    "    removefiles()\n",
    "    P\n",
    "end\n",
    "function plotwavelet(w::CDFWavelet, d=10)\n",
    "    y1, x1 = evaluate_in_dyadic_points(Primal, scaling, w, 0,0,d;points=true)\n",
    "    y2, x2 = evaluate_in_dyadic_points(Primal, wavelet, w, 0,0,d;points=true)\n",
    "\n",
    "    y3, x3 = evaluate_in_dyadic_points(Dual, scaling, w, 0,0,d;points=true)\n",
    "    y4, x4 = evaluate_in_dyadic_points(Dual, wavelet, w, 0,0,d;points=true)\n",
    "\n",
    "    \n",
    "    P1 = @pgf Axis({},\n",
    "        PlotInc({mark=\"none\"},Table(x1,y1)),\n",
    "        PlotInc({mark=\"none\"},Table(x2,y2))\n",
    "        )\n",
    "    P2 = @pgf Axis({},\n",
    "        PlotInc({mark=\"none\"},Table(x3,y3)),\n",
    "        PlotInc({mark=\"none\"},Table(x4,y4))\n",
    "        )\n",
    "    DocumentPGFPlots.savefigs(WaveletsEvaluation.DWT.name(w)*\"primal\", P2)\n",
    "    DocumentPGFPlots.savefigs(WaveletsEvaluation.DWT.name(w)*\"dual\", P2)\n",
    "    P = @pgf GroupPlot({width=\".5\\\\textwidth\",height=\".25\\\\textwidth\",group_style = {group_size=\"1 by 2\",},},\n",
    "            {},\n",
    "            PlotInc({mark=\"none\"},Table(x1,y1)),\n",
    "            PlotInc({mark=\"none\"},Table(x2,y2)),\n",
    "            {},\n",
    "            PlotInc({mark=\"none\"},Table(x3,y3)),\n",
    "            PlotInc({mark=\"none\",style=\"very thin\"},Table(x4,y4))\n",
    "        )\n",
    "    DocumentPGFPlots.savefigs(WaveletsEvaluation.DWT.name(w), P)\n",
    "    removefiles()\n",
    "    P\n",
    "end"
   ]
  },
  {
   "cell_type": "code",
   "execution_count": null,
   "metadata": {},
   "outputs": [],
   "source": [
    "plotwavelet(db2)"
   ]
  },
  {
   "cell_type": "code",
   "execution_count": null,
   "metadata": {},
   "outputs": [],
   "source": [
    "plotwavelet(db3)"
   ]
  },
  {
   "cell_type": "code",
   "execution_count": null,
   "metadata": {},
   "outputs": [],
   "source": [
    "plotwavelet(db4)"
   ]
  },
  {
   "cell_type": "code",
   "execution_count": null,
   "metadata": {},
   "outputs": [],
   "source": [
    "plotwavelet(cdf24)"
   ]
  },
  {
   "cell_type": "code",
   "execution_count": null,
   "metadata": {},
   "outputs": [],
   "source": [
    "plotwavelet(cdf35)"
   ]
  },
  {
   "cell_type": "code",
   "execution_count": null,
   "metadata": {},
   "outputs": [],
   "source": [
    "plotwavelet(cdf46)"
   ]
  },
  {
   "cell_type": "markdown",
   "metadata": {},
   "source": [
    "# Discrete duals"
   ]
  },
  {
   "cell_type": "code",
   "execution_count": null,
   "metadata": {},
   "outputs": [],
   "source": [
    "using InfiniteVectors\n",
    "using CompactTranslatesDict: signal, CompactPeriodicEquispacedTranslatesDual"
   ]
  },
  {
   "cell_type": "code",
   "execution_count": null,
   "metadata": {},
   "outputs": [],
   "source": [
    "m = 4\n",
    "dict = \n",
    "function plotdiscretedual(dict, m)\n",
    "    primal_dict = scalingbasis(dict)\n",
    "    dual_dict = CompactPeriodicEquispacedTranslatesDual(scalingbasis(dict),m)\n",
    "    s1 = signal(primal_dict, m)\n",
    "    s2 = signal(dual_dict, m)\n",
    "    l, r = extrema([support(s1)..., support(s2)...])\n",
    "    P = @pgf GroupPlot({width=\".5\\\\textwidth\",height=\".25\\\\textwidth\",group_style = {group_size=\"1 by 2\",},},\n",
    "            {},\n",
    "            PlotInc({samples_at=l:r},s1),\n",
    "            {},\n",
    "            PlotInc({samples_at=l:r},s2)\n",
    "        )\n",
    "    DocumentPGFPlots.savefigs(\"discrete\"*WaveletsEvaluation.DWT.name(wavelet(dict))*string(m), P)\n",
    "    removefiles()\n",
    "    P\n",
    "end"
   ]
  },
  {
   "cell_type": "code",
   "execution_count": null,
   "metadata": {},
   "outputs": [],
   "source": [
    "plotdiscretedual(DaubechiesWaveletBasis(2, 7, Float64, false), m)"
   ]
  },
  {
   "cell_type": "code",
   "execution_count": null,
   "metadata": {},
   "outputs": [],
   "source": [
    "plotdiscretedual(DaubechiesWaveletBasis(3, 7, Float64, false), m)"
   ]
  },
  {
   "cell_type": "code",
   "execution_count": null,
   "metadata": {},
   "outputs": [],
   "source": [
    "plotdiscretedual(DaubechiesWaveletBasis(4, 7, Float64, false), m)"
   ]
  },
  {
   "cell_type": "code",
   "execution_count": null,
   "metadata": {},
   "outputs": [],
   "source": []
  },
  {
   "cell_type": "code",
   "execution_count": null,
   "metadata": {},
   "outputs": [],
   "source": []
  },
  {
   "cell_type": "code",
   "execution_count": null,
   "metadata": {},
   "outputs": [],
   "source": [
    "plotdiscretedual(CDFWaveletBasis(3, 1, 7, typeof(Primal), Float64, false), m)"
   ]
  },
  {
   "cell_type": "code",
   "execution_count": null,
   "metadata": {},
   "outputs": [],
   "source": [
    "plotdiscretedual(CDFWaveletBasis(3, 5, 7, typeof(Primal), Float64, false), m)"
   ]
  },
  {
   "cell_type": "code",
   "execution_count": null,
   "metadata": {
    "scrolled": true
   },
   "outputs": [],
   "source": [
    "plotdiscretedual(CDFWaveletBasis(4, 2, 7, typeof(Primal), Float64, false), m)"
   ]
  },
  {
   "cell_type": "code",
   "execution_count": null,
   "metadata": {},
   "outputs": [],
   "source": [
    "m = 2; dict=DaubechiesWaveletBasis(2,4)"
   ]
  },
  {
   "cell_type": "code",
   "execution_count": null,
   "metadata": {},
   "outputs": [],
   "source": [
    "using Printf"
   ]
  },
  {
   "cell_type": "code",
   "execution_count": null,
   "metadata": {},
   "outputs": [],
   "source": [
    "itr = rand(10)\n",
    "myshowvector(stdout,itr,\"[\", \",\", \"]\", false)"
   ]
  },
  {
   "cell_type": "code",
   "execution_count": null,
   "metadata": {},
   "outputs": [],
   "source": [
    "function myshowvector(io::IO, itr::Union{AbstractArray}, op, delim, cl,\n",
    "                          delim_one, v=3)\n",
    "    recur_io = IOContext(io, :SHOWN_SET => itr)\n",
    "    first = true\n",
    "    @printf io \"\\\\parbox[t]{.8\\\\textwidth}{\\n\"\n",
    "    print(io, op)\n",
    "    for i in 1:length(itr)\n",
    "        x = itr[i]\n",
    "        show(recur_io, x)\n",
    "        if i == length(itr)\n",
    "            delim_one && first && print(io, delim)\n",
    "            break\n",
    "        end\n",
    "        first = false\n",
    "        print(io, delim)\n",
    "        print(io, ' ')\n",
    "        if i != length(itr)\n",
    "            if rem(i,v)==0 \n",
    "                @printf io \"\\\\\\\\ \\n\"\n",
    "            end\n",
    "        end\n",
    "    end\n",
    "    print(io, cl)\n",
    "    @printf io \"\\n}\"\n",
    "end\n",
    "function mystring(a) \n",
    "    io=IOBuffer()\n",
    "    myshowvector(io, a, \"[\", \",\", \"]\", false,3)\n",
    "    String(take!(io))\n",
    "end"
   ]
  },
  {
   "cell_type": "code",
   "execution_count": null,
   "metadata": {},
   "outputs": [],
   "source": [
    "function wavelettabular(ws)\n",
    "    io = IOBuffer()\n",
    "    @printf io \"\\\\begin{tabular}{|l|c|l|} \\n \\\\hline\\n\"\n",
    "    @printf io \"type&offset&values \\\\\\\\\\\\hline\\n\"\n",
    "    for w in ws\n",
    "        dict = waveletbasis(w,3)\n",
    "        primal_dict = scalingbasis(dict)\n",
    "        dual_dict = CompactPeriodicEquispacedTranslatesDual(scalingbasis(dict),m) \n",
    "        s1 = signal(primal_dict, m)\n",
    "        s2 = signal(dual_dict, m)\n",
    "        @printf io \"\\\\texttt{%s}&%d&%s\\\\\\\\\\\\hline \\n\" WaveletsEvaluation.DWT.name(wavelet(dict)) s1.offset mystring(s1.subvec)\n",
    "        @printf io \"&%d&%s\\\\\\\\\\\\hline \\n\"  s2.offset mystring(s2.subvec)\n",
    "    end \n",
    "    @printf io \"\\\\end{tabular} \\n\"\n",
    "    String(take!(io))\n",
    "end"
   ]
  },
  {
   "cell_type": "code",
   "execution_count": null,
   "metadata": {},
   "outputs": [],
   "source": [
    "open(\"dualtabular.tikz\", \"w\") do io\n",
    "   write(io, wavelettabular((db2,db3,db4,cdf31,cdf35,cdf42)))\n",
    "end;"
   ]
  },
  {
   "cell_type": "code",
   "execution_count": null,
   "metadata": {},
   "outputs": [],
   "source": []
  },
  {
   "cell_type": "code",
   "execution_count": null,
   "metadata": {},
   "outputs": [],
   "source": []
  },
  {
   "cell_type": "code",
   "execution_count": null,
   "metadata": {},
   "outputs": [],
   "source": []
  },
  {
   "cell_type": "code",
   "execution_count": null,
   "metadata": {},
   "outputs": [],
   "source": []
  },
  {
   "cell_type": "code",
   "execution_count": null,
   "metadata": {},
   "outputs": [],
   "source": []
  },
  {
   "cell_type": "markdown",
   "metadata": {},
   "source": [
    "# Solutions"
   ]
  },
  {
   "cell_type": "code",
   "execution_count": null,
   "metadata": {},
   "outputs": [],
   "source": [
    "using FrameFunWavelets, FrameFunTranslates, FrameFun, DomainSets\n",
    "using PyPlot\n",
    "\n",
    "function cplot(c;options...)\n",
    "    figure(figsize=(5,5))\n",
    "    P = imshow(abs.(c);cmap=\"gray_r\",norm=matplotlib.colors.LogNorm(eps()),options...)\n",
    "    P.figaspect=1\n",
    "    colorbar(shrink=.8)\n",
    "end\n",
    "function plotF(F;vmax=1.794, vmin= 0.725, zmax=vmax,zmin=vmin)\n",
    "    fig = plt.figure(figsize=(5,4))\n",
    "#     ax = fig.gca()\n",
    "    ax = fig.gca(projection=\"3d\")\n",
    "    ax.plot_surface([x[1] for x in g], [x[2] for x in g], F(g);cmap=\"coolwarm\",\n",
    "                           vmax=vmax, vmin= vmin, edgecolors=\"k\",linewidth=.5,alpha=1.)\n",
    "    ax.axes.grid(false)\n",
    "    ax.xaxis.set_pane_color((1.0, 1.0, 1.0, 0.0))\n",
    "    ax.yaxis.set_pane_color((1.0, 1.0, 1.0, 0.0))\n",
    "    ax.zaxis.set_pane_color((1.0, 1.0, 1.0, 0.0))\n",
    "    ax.set_zlim(zmin, zmax)\n",
    "    fig\n",
    "end"
   ]
  },
  {
   "cell_type": "code",
   "execution_count": null,
   "metadata": {},
   "outputs": [],
   "source": [
    "using StaticArrays\n",
    "D = (.3disk() + SVector(.5,.5)) \\ (.1disk() + SVector(.4,.4))"
   ]
  },
  {
   "cell_type": "code",
   "execution_count": null,
   "metadata": {
    "scrolled": true
   },
   "outputs": [],
   "source": [
    "P = ExtensionFramePlatform(NdDaubechiesPlatform(2,4),D)\n",
    "P = ExtensionFramePlatform(NdCDFPlatform(2,3,1),D)\n",
    "f = (x,y)->exp(x*y)\n",
    "N = (6,6)\n",
    "L = 4 .* (1 .<< N)\n",
    "F, A,b,c = FrameFunWavelets.CompactAZ.levelweighed_approximate(f,P,N;L=L,verbose=false,threshold=1e-10,\n",
    "    REG=pQR_solver,solverstyle=ReducedAZStyle())\n",
    "@show norm(A*c-b)\n",
    "FAZS, AAZS,bAZS,cAZS = FrameFunWavelets.CompactAZ.levelweighed_approximate(f,P,N;L=L,verbose=false,threshold=1e-10,\n",
    "    REG=pQR_solver,solverstyle=SparseAZStyle())\n",
    "@show norm(AAZS*cAZS-bAZS)\n",
    "F_ref, A_ref,b_ref,c_ref = approximate(f,P,N;L=L,verbose=false,threshold=1e-10,\n",
    "    REG=pQR_solver,solverstyle=ReducedAZStyle())\n",
    "@show norm(A_ref*c_ref-b_ref)\n",
    "F_refAZS, A_refAZS,b_refAZS,c_refAZS = approximate(f,P,N;L=L,verbose=false,threshold=1e-10,\n",
    "    REG=pQR_solver,solverstyle=SparseAZStyle())\n",
    "@show norm(A_refAZS*c_refAZS-b_refAZS)\n",
    "# F_refDS, A_refDS,b_refDS,c_refDS = approximate(f,P,N;L=L,verbose=false,threshold=1e-10,\n",
    "#     directsolver=SPQR_solver,solverstyle=DirectStyle())\n",
    "# @show norm(A_refDS*c_refDS-b_refDS)\n",
    "F_refD, A_refD,b_refD,c_refD = approximate(f,P,N;L=L,verbose=false,threshold=1e-10,\n",
    "    directsolver=QR_solver,solverstyle=DirectStyle())\n",
    "@show norm(A_refD*c_refD-b_refD);"
   ]
  },
  {
   "cell_type": "code",
   "execution_count": null,
   "metadata": {},
   "outputs": [],
   "source": [
    "g =plotgrid(dictionary(F),100)\n",
    "@show norm(c)\n",
    "@show norm(cAZS)\n",
    "@show norm(c_ref)\n",
    "@show norm(c_refAZS)\n",
    "# @show norm(c_refDS)\n",
    "@show norm(c_refD);"
   ]
  },
  {
   "cell_type": "code",
   "execution_count": null,
   "metadata": {},
   "outputs": [],
   "source": [
    "# copts = (cmap=\"gist_rainbow_r\",)\n",
    "copts = (cmap=\"gray_r\",vmin=1e-10,vmax=10)"
   ]
  },
  {
   "cell_type": "code",
   "execution_count": null,
   "metadata": {},
   "outputs": [],
   "source": [
    "cplot(c;copts...)\n",
    "PyPlot.savefig(\"2Dcoefs_AZWR\";bbox_inches=\"tight\")"
   ]
  },
  {
   "cell_type": "code",
   "execution_count": null,
   "metadata": {},
   "outputs": [],
   "source": [
    "cplot(c_refD;copts...)\n",
    "PyPlot.savefig(\"2Dcoefs_D\";bbox_inches=\"tight\")"
   ]
  },
  {
   "cell_type": "code",
   "execution_count": null,
   "metadata": {},
   "outputs": [],
   "source": [
    "cplot(c_ref;copts...)\n",
    "PyPlot.savefig(\"2Dcoefs_AZR\";bbox_inches=\"tight\")"
   ]
  },
  {
   "cell_type": "code",
   "execution_count": null,
   "metadata": {},
   "outputs": [],
   "source": [
    "g = plotgrid(dictionary(F),512);"
   ]
  },
  {
   "cell_type": "code",
   "execution_count": null,
   "metadata": {},
   "outputs": [],
   "source": []
  },
  {
   "cell_type": "code",
   "execution_count": null,
   "metadata": {
    "scrolled": true
   },
   "outputs": [],
   "source": [
    "plotF(F;zmin=0)\n",
    "PyPlot.savefig(\"f_AZWR\";bbox_inches=\"tight\")"
   ]
  },
  {
   "cell_type": "code",
   "execution_count": null,
   "metadata": {},
   "outputs": [],
   "source": [
    "plotF(F_ref;zmin=0)\n",
    "PyPlot.savefig(\"f_AZR\";bbox_inches=\"tight\")"
   ]
  },
  {
   "cell_type": "code",
   "execution_count": null,
   "metadata": {},
   "outputs": [],
   "source": [
    "plotF(F_refD;zmin=0)\n",
    "PyPlot.savefig(\"f_D\";bbox_inches=\"tight\")"
   ]
  },
  {
   "cell_type": "code",
   "execution_count": null,
   "metadata": {},
   "outputs": [],
   "source": [
    "P = ExtensionFramePlatform(NdCDBSplinePlatform((3,3)),D)\n",
    "f = (x,y)->exp(x*y)\n",
    "N = (6,6)\n",
    "\n",
    "L = 4 .* (1 .<< N)\n",
    "N = 1 .<< N\n",
    "\n",
    "F1_ref, A1_ref,b1_ref,c1_ref = approximate(f,P,N;L=L,verbose=false,threshold=1e-10,\n",
    "    REG=pQR_solver,solverstyle=ReducedAZStyle())\n",
    "@show norm(A1_ref*c1_ref-b1_ref)\n",
    "F1_refD, A1_refD,b1_refD,c1_refD = approximate(f,P,N;L=L,verbose=false,threshold=1e-10,\n",
    "    directsolver=QR_solver,solverstyle=DirectStyle())\n",
    "@show norm(A1_refD*c1_refD-b1_refD);\n",
    "F1_refAZS, A1_refAZS,b1_refAZS,c1_refAZS = approximate(f,P,N;L=L,verbose=false,threshold=1e-10,\n",
    "    REG=pQR_solver,solverstyle=SparseAZStyle())\n",
    "@show norm(A1_refAZS*c1_refAZS-b1_refAZS);"
   ]
  },
  {
   "cell_type": "code",
   "execution_count": null,
   "metadata": {},
   "outputs": [],
   "source": [
    "@show norm(c1_ref)\n",
    "@show norm(c1_refD)\n",
    "@show norm(c1_refAZS);"
   ]
  },
  {
   "cell_type": "code",
   "execution_count": null,
   "metadata": {},
   "outputs": [],
   "source": [
    "# cplot(c1_ref;copts...)\n",
    "# PyPlot.savefig(\"2Dspline_coefs_AZR\";bbox_inches=\"tight\")"
   ]
  },
  {
   "cell_type": "code",
   "execution_count": null,
   "metadata": {},
   "outputs": [],
   "source": [
    "plotF(F1_ref;zmin=0)\n",
    "PyPlot.savefig(\"fspline_AZR\";bbox_inches=\"tight\")"
   ]
  },
  {
   "cell_type": "code",
   "execution_count": null,
   "metadata": {},
   "outputs": [],
   "source": [
    "plotF(F1_refD;zmin=0)\n",
    "PyPlot.savefig(\"fspline_D\";bbox_inches=\"tight\")"
   ]
  },
  {
   "cell_type": "code",
   "execution_count": null,
   "metadata": {},
   "outputs": [],
   "source": []
  },
  {
   "cell_type": "code",
   "execution_count": null,
   "metadata": {},
   "outputs": [],
   "source": [
    "using Printf\n",
    "function weightedtabular()\n",
    "io = IOBuffer() \n",
    "@printf io \"\\\\begin{tabular}{l|l|l|l|l|}\\n\"\n",
    "@printf io \"&\\\\multicolumn{2}{l}{wavelet extension}&\\\\multicolumn{2}{|l|}{spline extension}\\\\\\\\\\n\"\n",
    "@printf io \"&\\$\\\\ell^2\\$ coef. norm &residual error&\\$\\\\ell^2\\$ coef. norm & residual error\\\\\\\\\\\\hline\\n\"\n",
    "@printf io \"Reduced AZ&%1.2f&%1.2e&%1.2f&%1.2e\\\\\\\\\\n\" norm(c_ref) norm(A_ref*c_ref-b_ref) norm(c1_ref) norm(A1_ref*c1_ref-b1_ref)\n",
    "@printf io \"Weighted reduced AZ&%1.2f&%1.2e&&\\\\\\\\\\n\" norm(c) norm(A*c-b)\n",
    "@printf io \"Pivoted QR&%1.2f&%1.2e&%1.2f&%1.2e\\\\\\\\\\\\hline\\n\" norm(c_refD) norm(A_refD*c_refD-b_refD) norm(c1_refD) norm(A1_refD*c1_refD-b1_refD) \n",
    "@printf io \"Sparse AZ&%1.2f&%1.2e&%1.2f&%1.2e\\\\\\\\\\n\" norm(c_refAZS) norm(A_refAZS*c_refAZS-b_refAZS) norm(c1_refAZS) norm(A1_refAZS*c1_refAZS-b1_refAZS)\n",
    "@printf io \"Weighted sparse AZ&%1.2f&%1.2e&&\\n\" norm(cAZS) norm(AAZS*cAZS-bAZS) \n",
    "@printf io \"\\\\end{tabular}\\n\"\n",
    "String(take!(io))\n",
    "end"
   ]
  },
  {
   "cell_type": "code",
   "execution_count": null,
   "metadata": {},
   "outputs": [],
   "source": [
    "open(\"weightedtabular.tikz\", \"w\") do io\n",
    "   write(io, weightedtabular())\n",
    "end;"
   ]
  },
  {
   "cell_type": "code",
   "execution_count": null,
   "metadata": {},
   "outputs": [],
   "source": []
  }
 ],
 "metadata": {
  "@webio": {
   "lastCommId": null,
   "lastKernelId": null
  },
  "kernelspec": {
   "display_name": "Julia 1.3.0",
   "language": "julia",
   "name": "julia-1.3"
  },
  "language_info": {
   "file_extension": ".jl",
   "mimetype": "application/julia",
   "name": "julia",
   "version": "1.3.0"
  }
 },
 "nbformat": 4,
 "nbformat_minor": 2
}
